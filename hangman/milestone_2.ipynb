{
 "cells": [
  {
   "cell_type": "code",
   "execution_count": 3,
   "metadata": {},
   "outputs": [
    {
     "name": "stdout",
     "output_type": "stream",
     "text": [
      "Good guess!: j\n",
      "['apple', 'banana', 'orange', 'grape', 'watermelon']\n",
      "orange\n"
     ]
    }
   ],
   "source": [
    "import random\n",
    "\n",
    "fruits = ['apple', 'banana', 'orange', 'grape', 'watermelon']\n",
    "\n",
    "word_list = ['apple', 'banana', 'orange', 'grape', 'watermelon']\n",
    "\n",
    "word = random.choice(word_list)\n",
    "guess = input(\"Please enter a single letter: \")\n",
    "\n",
    "\n",
    "if len(guess) == 1 and guess.isalpha():\n",
    "    print(\"Good guess!:\", guess)\n",
    "else:\n",
    "    print(\"Oops!. Please enter a single letter.\")\n",
    "\n",
    "\n",
    "\n",
    "print(word_list)\n",
    "print(word)"
   ]
  }
 ],
 "metadata": {
  "kernelspec": {
   "display_name": "base",
   "language": "python",
   "name": "python3"
  },
  "language_info": {
   "codemirror_mode": {
    "name": "ipython",
    "version": 3
   },
   "file_extension": ".py",
   "mimetype": "text/x-python",
   "name": "python",
   "nbconvert_exporter": "python",
   "pygments_lexer": "ipython3",
   "version": "3.11.5"
  },
  "orig_nbformat": 4
 },
 "nbformat": 4,
 "nbformat_minor": 2
}
