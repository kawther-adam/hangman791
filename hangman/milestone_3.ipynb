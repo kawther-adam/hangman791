{
 "cells": [
  {
   "cell_type": "code",
   "execution_count": 4,
   "metadata": {},
   "outputs": [
    {
     "name": "stdout",
     "output_type": "stream",
     "text": [
      "Your guess: b\n",
      "Good guess! b is in the word.\n"
     ]
    }
   ],
   "source": [
    "\n",
    "def check_guess(guess, word):\n",
    "\n",
    "    guess = guess.lower()\n",
    "\n",
    "   \n",
    "    if guess in word:\n",
    "        print(f\"Good guess! {guess} is in the word.\")\n",
    "    else:\n",
    "        print(f\"Sorry, {guess} is not in the word. Try again.\")\n",
    "\n",
    "def ask_for_input():\n",
    "    while True:\n",
    "      \n",
    "        guess = input(\"Please guess a letter: \")\n",
    "\n",
    "     \n",
    "        if len(guess) == 1 and guess.isalpha():\n",
    "            print(\"Your guess:\", guess)\n",
    "\n",
    "         \n",
    "            check_guess(guess, word)\n",
    "\n",
    "            \n",
    "            break\n",
    "        else:\n",
    "            print(\"Invalid letter. Please, enter a single alphabetical character.\")\n",
    "\n",
    "\n",
    "word = \"banana\"\n",
    "\n",
    "\n",
    "ask_for_input()\n",
    "    \n",
    "  \n",
    "\n",
    "        "
   ]
  }
 ],
 "metadata": {
  "kernelspec": {
   "display_name": "base",
   "language": "python",
   "name": "python3"
  },
  "language_info": {
   "codemirror_mode": {
    "name": "ipython",
    "version": 3
   },
   "file_extension": ".py",
   "mimetype": "text/x-python",
   "name": "python",
   "nbconvert_exporter": "python",
   "pygments_lexer": "ipython3",
   "version": "3.11.5"
  },
  "orig_nbformat": 4
 },
 "nbformat": 4,
 "nbformat_minor": 2
}
